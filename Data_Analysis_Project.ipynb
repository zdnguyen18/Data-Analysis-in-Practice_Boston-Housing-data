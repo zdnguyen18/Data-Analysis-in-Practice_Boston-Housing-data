{
 "cells": [
  {
   "cell_type": "raw",
   "metadata": {
    "lines_to_next_cell": 0
   },
   "source": [
    "---\n",
    "title: \"Data Analysis in Practice: Predict the age of a house built before 1940 based on the number of rooms and tax rate\"\n",
    "output: html_notebook\n",
    "---"
   ]
  },
  {
   "cell_type": "code",
   "execution_count": null,
   "metadata": {},
   "outputs": [],
   "source": []
  },
  {
   "cell_type": "markdown",
   "metadata": {
    "lines_to_next_cell": 0
   },
   "source": [
    "Using 2 libraries: tidyverse & ggplot2\n",
    "The Boston data is in the MASS package\n",
    "My project using variables: rm (number of rooms), age (how old the house is), tax, chas (location of housing nearby Charles river or not - variable to increse the accuracy of model)\n",
    "-> Create a new dataframe contains only 4 variables and check whether we have any NA cell in new df"
   ]
  },
  {
   "cell_type": "code",
   "execution_count": null,
   "metadata": {
    "lines_to_next_cell": 0
   },
   "outputs": [],
   "source": [
    "library(tidyverse)\n",
    "library(ggplot2)\n",
    "library(MASS)\n",
    "Boston\n",
    "dim(Boston)\n",
    "df <- Boston[,c('chas','rm','age','tax')]\n",
    "df"
   ]
  },
  {
   "cell_type": "markdown",
   "metadata": {
    "lines_to_next_cell": 0
   },
   "source": [
    "Overview of the new dataframe:\n",
    "+ str(): display a structure of an R object\n",
    "+ summary(): display the min, max, median, mean of each variable\n",
    "+ cor(): compute the correlation coefficienct "
   ]
  },
  {
   "cell_type": "code",
   "execution_count": null,
   "metadata": {
    "lines_to_next_cell": 0
   },
   "outputs": [],
   "source": [
    "str(df)\n",
    "summary(df)\n",
    "head(df)"
   ]
  },
  {
   "cell_type": "markdown",
   "metadata": {
    "lines_to_next_cell": 0
   },
   "source": [
    "Correlation Test: cor()\n",
    "-> Meaning: \n",
    "+ The average number of rooms has a negative coefficient with age (dependent variable) \n",
    "+ While the tax rate has a positive coefficient with age (dependent variable) "
   ]
  },
  {
   "cell_type": "code",
   "execution_count": null,
   "metadata": {},
   "outputs": [],
   "source": [
    "pairs(df[,c(1:4)])\n",
    "cor(df)"
   ]
  },
  {
   "cell_type": "markdown",
   "metadata": {
    "lines_to_next_cell": 0
   },
   "source": [
    "Assign plot (histogram and boxplot) for each variable"
   ]
  },
  {
   "cell_type": "code",
   "execution_count": null,
   "metadata": {
    "lines_to_next_cell": 0
   },
   "outputs": [],
   "source": [
    "#Age variable\n",
    "ggplot(df,aes(x=age)) + geom_histogram(bins = 30, aes(y=..density..))+theme_classic() + geom_density()\n",
    "ggplot(df, aes(x=age)) + geom_boxplot() + theme_classic() \n",
    "#rm variable\n",
    "ggplot(df,aes(x=rm)) + geom_histogram(bins = 30, aes(y=..density..))+theme_classic() + geom_density()\n",
    "ggplot(df, aes(x=rm)) + geom_boxplot() + theme_classic() \n",
    "#tax variable\n",
    "ggplot(df,aes(x=tax)) + geom_histogram(bins = 30, aes(y=..density..))+theme_classic() + geom_density()\n",
    "ggplot(df, aes(x=tax)) + geom_boxplot() + theme_classic() "
   ]
  },
  {
   "cell_type": "markdown",
   "metadata": {},
   "source": [
    "Scatter diagram to show the relationship between dependent var (age) and each independent var (rm & tax)"
   ]
  },
  {
   "cell_type": "code",
   "execution_count": null,
   "metadata": {
    "lines_to_next_cell": 0
   },
   "outputs": [],
   "source": [
    "#age & rm\n",
    "ggplot(df, aes(rm,age)) + geom_point() + geom_smooth(formula = y~x, method = loess)\n",
    "#age & tax\n",
    "ggplot(df, aes(tax,age)) + geom_point() + geom_smooth(formula = y~x, method = loess)"
   ]
  },
  {
   "cell_type": "markdown",
   "metadata": {
    "lines_to_next_cell": 0
   },
   "source": [
    "3 linear regression models: 2 single linear regression models & one multi-variables regression model\n",
    "+ Model 1: age and rm: Heteroscedasticity -> not a good linear regression model\n",
    "+ Model 3: age, rm and tax"
   ]
  },
  {
   "cell_type": "code",
   "execution_count": null,
   "metadata": {
    "lines_to_next_cell": 0
   },
   "outputs": [],
   "source": [
    "(model1 <- lm(age~rm, data =df))\n",
    "summary(model1)\n",
    "par(mfrow = c(2,2))\n",
    "plot(model1)\n",
    "shapiro.test(model1$residuals)"
   ]
  },
  {
   "cell_type": "markdown",
   "metadata": {
    "lines_to_next_cell": 0
   },
   "source": [
    "+ Model 2: age and tax"
   ]
  },
  {
   "cell_type": "code",
   "execution_count": null,
   "metadata": {
    "lines_to_next_cell": 0
   },
   "outputs": [],
   "source": [
    "(model2 <- lm(age~tax, data =df))\n",
    "summary(model2)\n",
    "par(mfrow = c(2,2))\n",
    "plot(model2)\n",
    "shapiro.test(model2$residuals)"
   ]
  },
  {
   "cell_type": "markdown",
   "metadata": {
    "lines_to_next_cell": 0
   },
   "source": [
    "+ Model 3: age, rm and tax"
   ]
  },
  {
   "cell_type": "code",
   "execution_count": null,
   "metadata": {
    "lines_to_next_cell": 0
   },
   "outputs": [],
   "source": [
    "(model3 <- lm(age~tax+rm, data =df))\n",
    "summary(model3)\n",
    "par(mfrow = c(2,2))\n",
    "plot(model3)\n",
    "shapiro.test(model3$residuals)"
   ]
  },
  {
   "cell_type": "markdown",
   "metadata": {
    "lines_to_next_cell": 0
   },
   "source": [
    "Improve the accuracy of model using dummy variable CHAS\n",
    "+ Create one data-frame with CHAS == 1: 35 rows x 4 cols\n",
    "+ Model 3_1: multi-variables (age,tax,rm) linear regression with dataframe where chas==1"
   ]
  },
  {
   "cell_type": "code",
   "execution_count": null,
   "metadata": {
    "lines_to_next_cell": 0
   },
   "outputs": [],
   "source": [
    "(df2 <- filter(df, chas ==1))\n",
    "summary(df2)\n",
    "(model3_1 <- lm(age~ df2$tax + df2$rm, data =df2))\n",
    "summary(model3_1)"
   ]
  },
  {
   "cell_type": "markdown",
   "metadata": {
    "lines_to_next_cell": 0
   },
   "source": [
    "Improve the accuracy of model using dummy variable CHAS\n",
    "+ Create one data-frame with CHAS == 0: 471 rows x 4 cols\n",
    "+ Model 3_1: multi-variables (age,tax,rm) linear regression with dataframe where chas==1"
   ]
  },
  {
   "cell_type": "code",
   "execution_count": null,
   "metadata": {},
   "outputs": [],
   "source": [
    "(df3 <- filter(df, chas ==0))\n",
    "summary(df3)\n",
    "(model3_2 <- lm(age~ df3$tax + df3$rm, data =df3))\n",
    "summary(model3_2)"
   ]
  },
  {
   "cell_type": "markdown",
   "metadata": {},
   "source": [
    "Add a new chunk by clicking the *Insert Chunk* button on the toolbar or by pressing *Cmd+Option+I*.\n",
    "When you save the notebook, an HTML file containing the code and output will be saved alongside it (click the *Preview* button or press *Cmd+Shift+K* to preview the HTML file). \n",
    "The preview shows you a rendered HTML copy of the contents of the editor. Consequently, unlike *Knit*, *Preview* does not run any R code chunks. Instead, the output of the chunk when it was last run in the editor is displayed.\n"
   ]
  }
 ],
 "metadata": {
  "jupytext": {
   "cell_metadata_filter": "-all",
   "main_language": "R",
   "notebook_metadata_filter": "-all"
  }
 },
 "nbformat": 4,
 "nbformat_minor": 4
}
